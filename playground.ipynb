{
 "cells": [
  {
   "cell_type": "code",
   "execution_count": 1,
   "metadata": {},
   "outputs": [],
   "source": [
    "import bf4py\n",
    "test = bf4py.BF4Py(\"US594918BY93\")"
   ]
  },
  {
   "cell_type": "code",
   "execution_count": 60,
   "metadata": {},
   "outputs": [
    {
     "data": {
      "text/plain": [
       "[{'date': '2023-08-25',\n",
       "  'open': 95.29,\n",
       "  'close': 95.34,\n",
       "  'high': 95.49,\n",
       "  'low': 95.24,\n",
       "  'turnoverPieces': 0,\n",
       "  'turnoverEuro': 0}]"
      ]
     },
     "execution_count": 60,
     "metadata": {},
     "output_type": "execute_result"
    }
   ],
   "source": [
    "from datetime import date\n",
    "test.general.eod_data(min_date= date(2023, 8, 25), isin= \"US594918BY93\", mic= \"XFRA\")"
   ]
  },
  {
   "cell_type": "code",
   "execution_count": 110,
   "metadata": {},
   "outputs": [],
   "source": [
    "#test.derivatives.instrument_data(\"US594918BY93\", mic = \"XFRA\")\n",
    "from datetime import datetime, date\n",
    "\n",
    "\n",
    "connector = bf4py.connector.BF4PyConnector()\n",
    "# params = {\"isin\": \"US594918BY93\"}\n",
    "\n",
    "response = test.general.instrument_information(\"US594918BY93\")\n",
    "response2 = connector.data_request(\"master_data_bond\", params=params)\n",
    "\n",
    "response3 = test.general.eod_data(isin= \"US594918BY93\", min_date= date(year= 2022, month=8,  day=20), mic = \"XFRA\")\n"
   ]
  },
  {
   "cell_type": "code",
   "execution_count": 111,
   "metadata": {},
   "outputs": [],
   "source": [
    "import pandas as pd\n",
    "\n",
    "\n",
    "df1 = pd.DataFrame(list(response.items()))\n",
    "df2 = pd.DataFrame(list(response2.items()))\n",
    "df3 = pd.DataFrame(list(response3))"
   ]
  },
  {
   "cell_type": "code",
   "execution_count": 122,
   "metadata": {},
   "outputs": [
    {
     "data": {
      "text/html": [
       "<div>\n",
       "<style scoped>\n",
       "    .dataframe tbody tr th:only-of-type {\n",
       "        vertical-align: middle;\n",
       "    }\n",
       "\n",
       "    .dataframe tbody tr th {\n",
       "        vertical-align: top;\n",
       "    }\n",
       "\n",
       "    .dataframe thead th {\n",
       "        text-align: right;\n",
       "    }\n",
       "</style>\n",
       "<table border=\"1\" class=\"dataframe\">\n",
       "  <thead>\n",
       "    <tr style=\"text-align: right;\">\n",
       "      <th></th>\n",
       "      <th>date</th>\n",
       "      <th>open</th>\n",
       "      <th>close</th>\n",
       "      <th>high</th>\n",
       "      <th>low</th>\n",
       "      <th>turnoverPieces</th>\n",
       "      <th>turnoverEuro</th>\n",
       "    </tr>\n",
       "  </thead>\n",
       "  <tbody>\n",
       "    <tr>\n",
       "      <th>0</th>\n",
       "      <td>2023-08-25</td>\n",
       "      <td>95.29</td>\n",
       "      <td>95.340</td>\n",
       "      <td>95.490</td>\n",
       "      <td>95.24</td>\n",
       "      <td>0</td>\n",
       "      <td>0.0</td>\n",
       "    </tr>\n",
       "    <tr>\n",
       "      <th>1</th>\n",
       "      <td>2023-08-24</td>\n",
       "      <td>95.49</td>\n",
       "      <td>95.535</td>\n",
       "      <td>95.635</td>\n",
       "      <td>95.40</td>\n",
       "      <td>0</td>\n",
       "      <td>0.0</td>\n",
       "    </tr>\n",
       "    <tr>\n",
       "      <th>2</th>\n",
       "      <td>2023-08-23</td>\n",
       "      <td>95.03</td>\n",
       "      <td>95.575</td>\n",
       "      <td>95.625</td>\n",
       "      <td>95.03</td>\n",
       "      <td>0</td>\n",
       "      <td>0.0</td>\n",
       "    </tr>\n",
       "    <tr>\n",
       "      <th>3</th>\n",
       "      <td>2023-08-22</td>\n",
       "      <td>95.13</td>\n",
       "      <td>95.165</td>\n",
       "      <td>95.290</td>\n",
       "      <td>95.06</td>\n",
       "      <td>0</td>\n",
       "      <td>0.0</td>\n",
       "    </tr>\n",
       "    <tr>\n",
       "      <th>4</th>\n",
       "      <td>2023-08-21</td>\n",
       "      <td>95.16</td>\n",
       "      <td>95.130</td>\n",
       "      <td>95.320</td>\n",
       "      <td>95.13</td>\n",
       "      <td>26000</td>\n",
       "      <td>24783.2</td>\n",
       "    </tr>\n",
       "    <tr>\n",
       "      <th>...</th>\n",
       "      <td>...</td>\n",
       "      <td>...</td>\n",
       "      <td>...</td>\n",
       "      <td>...</td>\n",
       "      <td>...</td>\n",
       "      <td>...</td>\n",
       "      <td>...</td>\n",
       "    </tr>\n",
       "    <tr>\n",
       "      <th>256</th>\n",
       "      <td>2022-08-26</td>\n",
       "      <td>99.15</td>\n",
       "      <td>98.980</td>\n",
       "      <td>99.150</td>\n",
       "      <td>98.95</td>\n",
       "      <td>0</td>\n",
       "      <td>0.0</td>\n",
       "    </tr>\n",
       "    <tr>\n",
       "      <th>257</th>\n",
       "      <td>2022-08-25</td>\n",
       "      <td>98.90</td>\n",
       "      <td>98.920</td>\n",
       "      <td>99.020</td>\n",
       "      <td>98.90</td>\n",
       "      <td>0</td>\n",
       "      <td>0.0</td>\n",
       "    </tr>\n",
       "    <tr>\n",
       "      <th>258</th>\n",
       "      <td>2022-08-24</td>\n",
       "      <td>99.13</td>\n",
       "      <td>98.840</td>\n",
       "      <td>99.150</td>\n",
       "      <td>98.84</td>\n",
       "      <td>0</td>\n",
       "      <td>0.0</td>\n",
       "    </tr>\n",
       "    <tr>\n",
       "      <th>259</th>\n",
       "      <td>2022-08-23</td>\n",
       "      <td>99.14</td>\n",
       "      <td>99.430</td>\n",
       "      <td>99.430</td>\n",
       "      <td>99.01</td>\n",
       "      <td>0</td>\n",
       "      <td>0.0</td>\n",
       "    </tr>\n",
       "    <tr>\n",
       "      <th>260</th>\n",
       "      <td>2022-08-22</td>\n",
       "      <td>99.48</td>\n",
       "      <td>99.190</td>\n",
       "      <td>99.510</td>\n",
       "      <td>99.19</td>\n",
       "      <td>0</td>\n",
       "      <td>0.0</td>\n",
       "    </tr>\n",
       "  </tbody>\n",
       "</table>\n",
       "<p>261 rows × 7 columns</p>\n",
       "</div>"
      ],
      "text/plain": [
       "           date   open   close    high    low  turnoverPieces  turnoverEuro\n",
       "0    2023-08-25  95.29  95.340  95.490  95.24               0           0.0\n",
       "1    2023-08-24  95.49  95.535  95.635  95.40               0           0.0\n",
       "2    2023-08-23  95.03  95.575  95.625  95.03               0           0.0\n",
       "3    2023-08-22  95.13  95.165  95.290  95.06               0           0.0\n",
       "4    2023-08-21  95.16  95.130  95.320  95.13           26000       24783.2\n",
       "..          ...    ...     ...     ...    ...             ...           ...\n",
       "256  2022-08-26  99.15  98.980  99.150  98.95               0           0.0\n",
       "257  2022-08-25  98.90  98.920  99.020  98.90               0           0.0\n",
       "258  2022-08-24  99.13  98.840  99.150  98.84               0           0.0\n",
       "259  2022-08-23  99.14  99.430  99.430  99.01               0           0.0\n",
       "260  2022-08-22  99.48  99.190  99.510  99.19               0           0.0\n",
       "\n",
       "[261 rows x 7 columns]"
      ]
     },
     "execution_count": 122,
     "metadata": {},
     "output_type": "execute_result"
    }
   ],
   "source": [
    "df3"
   ]
  },
  {
   "cell_type": "code",
   "execution_count": 51,
   "metadata": {},
   "outputs": [
    {
     "data": {
      "text/plain": [
       "{'timestamp': '2023-08-27T21:56:02.281+00:00',\n",
       " 'status': 404,\n",
       " 'error': 'Not Found',\n",
       " 'path': '/data/trade_history_bonds'}"
      ]
     },
     "execution_count": 51,
     "metadata": {},
     "output_type": "execute_result"
    }
   ],
   "source": [
    "from datetime import datetime, timezone, time\n",
    "\n",
    "\n",
    "params = {\"isin\": \"US594918BY93\",\n",
    "            'from': datetime.combine(datetime(2022, 8, 1), time(8,0,0)).astimezone(timezone.utc).isoformat().replace('+00:00','Z'),\n",
    "            'to': datetime.combine(datetime(2023, 8, 1), time(22,0,0)).astimezone(timezone.utc).isoformat().replace('+00:00','Z'),\n",
    "            'limit': 20,\n",
    "            'offset': 0,\n",
    "            'includePricesWithoutTurnover': False\n",
    "            }\n",
    "\n",
    "\n",
    "connector.data_request('trade_history_bonds', params)\n"
   ]
  },
  {
   "cell_type": "markdown",
   "metadata": {},
   "source": [
    "### The Boerse Frankfurt Bonds supports the following backends\n",
    "- master_data_bond\n",
    "- general.eod_data\n"
   ]
  }
 ],
 "metadata": {
  "kernelspec": {
   "display_name": "OpenBB_Terminal",
   "language": "python",
   "name": "python3"
  },
  "language_info": {
   "codemirror_mode": {
    "name": "ipython",
    "version": 3
   },
   "file_extension": ".py",
   "mimetype": "text/x-python",
   "name": "python",
   "nbconvert_exporter": "python",
   "pygments_lexer": "ipython3",
   "version": "3.9.17"
  },
  "orig_nbformat": 4
 },
 "nbformat": 4,
 "nbformat_minor": 2
}
